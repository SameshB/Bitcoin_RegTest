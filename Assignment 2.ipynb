{
  "cells": [
    {
      "attachments": {},
      "cell_type": "markdown",
      "metadata": {},
      "source": [
        "**Bitcoin Transaction in RegTest mode in 7 steps**\n",
        "\n",
        "Step 1: Use wget command to download a compressed file containing the Bitcoin Core software for Linux 32-bit architecture.\n"
      ]
    },
    {
      "cell_type": "code",
      "execution_count": null,
      "metadata": {
        "colab": {
          "base_uri": "https://localhost:8080/"
        },
        "id": "QNF0JZO0hlbU",
        "outputId": "af0425c6-9dbc-4873-9d69-78a79416660e"
      },
      "outputs": [
        {
          "name": "stdout",
          "output_type": "stream",
          "text": [
            "--2023-02-19 07:15:17--  https://bitcoincore.org/bin/bitcoin-core-24.0.1/bitcoin-24.0.1-x86_64-linux-gnu.tar.gz\n",
            "Resolving bitcoincore.org (bitcoincore.org)... 107.191.99.5, 198.251.83.116\n",
            "Connecting to bitcoincore.org (bitcoincore.org)|107.191.99.5|:443... connected.\n",
            "HTTP request sent, awaiting response... 200 OK\n",
            "Length: 46384770 (44M) [application/octet-stream]\n",
            "Saving to: ‘bitcoin-24.0.1-x86_64-linux-gnu.tar.gz’\n",
            "\n",
            "bitcoin-24.0.1-x86_ 100%[===================>]  44.24M  36.4MB/s    in 1.2s    \n",
            "\n",
            "2023-02-19 07:15:19 (36.4 MB/s) - ‘bitcoin-24.0.1-x86_64-linux-gnu.tar.gz’ saved [46384770/46384770]\n",
            "\n"
          ]
        }
      ],
      "source": [
        "!wget https://bitcoincore.org/bin/bitcoin-core-24.0.1/bitcoin-24.0.1-x86_64-linux-gnu.tar.gz"
      ]
    },
    {
      "attachments": {},
      "cell_type": "markdown",
      "metadata": {},
      "source": [
        "Step 2: Extract the contents of the compressed file and moves the Bitcoin Core binaries to the /usr/local/bin/ directory, which is included in the system's PATH environment variable."
      ]
    },
    {
      "cell_type": "code",
      "execution_count": null,
      "metadata": {
        "id": "gRip801hhtZd"
      },
      "outputs": [],
      "source": [
        "!tar -xzf bitcoin-24.0.1-x86_64-linux-gnu.tar.gz\n",
        "!sudo mv bitcoin-24.0.1/bin/* /usr/local/bin/"
      ]
    },
    {
      "attachments": {},
      "cell_type": "markdown",
      "metadata": {},
      "source": [
        "Step 3: Start the bitcoind daemon in regression testing mode, which is a local testing environment for developing and testing Bitcoin applications, and create two wallets named test_wallet and receiver_wallet"
      ]
    },
    {
      "cell_type": "code",
      "execution_count": null,
      "metadata": {
        "colab": {
          "base_uri": "https://localhost:8080/"
        },
        "id": "PXnizYurh14E",
        "outputId": "f3e926e1-9d08-40e7-a698-704eeeaae53f"
      },
      "outputs": [
        {
          "name": "stdout",
          "output_type": "stream",
          "text": [
            "Bitcoin Core starting\n"
          ]
        }
      ],
      "source": [
        "!bitcoind -regtest -daemon"
      ]
    },
    {
      "cell_type": "code",
      "execution_count": null,
      "metadata": {
        "colab": {
          "base_uri": "https://localhost:8080/"
        },
        "id": "oCNo3IcUh7OA",
        "outputId": "fee97690-dbb8-4bad-fa66-245c22f350f0"
      },
      "outputs": [
        {
          "name": "stdout",
          "output_type": "stream",
          "text": [
            "{\n",
            "  \"name\": \"test_wallet\",\n",
            "  \"warning\": \"\"\n",
            "}\n"
          ]
        }
      ],
      "source": [
        "!bitcoin-cli -regtest createwallet test_wallet"
      ]
    },
    {
      "cell_type": "code",
      "execution_count": null,
      "metadata": {
        "colab": {
          "base_uri": "https://localhost:8080/"
        },
        "id": "k_d3H9XYjFQw",
        "outputId": "c8b7eb30-93fc-4d93-f096-10b5f0ea72ec"
      },
      "outputs": [
        {
          "name": "stdout",
          "output_type": "stream",
          "text": [
            "{\n",
            "  \"name\": \"receiver_wallet\",\n",
            "  \"warning\": \"\"\n",
            "}\n"
          ]
        }
      ],
      "source": [
        "!bitcoin-cli -regtest createwallet receiver_wallet"
      ]
    },
    {
      "attachments": {},
      "cell_type": "markdown",
      "metadata": {},
      "source": [
        "Step 4: Generate a new Bitcoin addresses for the wallets using the getnewaddress command via the Bitcoin Core JSON-RPC API."
      ]
    },
    {
      "cell_type": "code",
      "execution_count": null,
      "metadata": {
        "colab": {
          "base_uri": "https://localhost:8080/"
        },
        "id": "EQ9nyb-wjMlG",
        "outputId": "b354e948-8cfc-4235-9117-889eb741f246"
      },
      "outputs": [
        {
          "name": "stdout",
          "output_type": "stream",
          "text": [
            "bcrt1qtcpqe3znc4px3ne0esqrc33t273wzggsx8npgw\n",
            "bcrt1qasyqs7a5gh8ptd3y4rguuuk9vnw4dmsjc6wulw\n"
          ]
        }
      ],
      "source": [
        "!bitcoin-cli -regtest --rpcwallet=test_wallet getnewaddress\n",
        "!bitcoin-cli -regtest --rpcwallet=receiver_wallet getnewaddress"
      ]
    },
    {
      "attachments": {},
      "cell_type": "markdown",
      "metadata": {},
      "source": [
        "Step 5: Generate 111 new Bitcoin blocks in the regression testing mode. This will send the block rewards to the test_wallet address"
      ]
    },
    {
      "cell_type": "code",
      "execution_count": null,
      "metadata": {
        "colab": {
          "base_uri": "https://localhost:8080/"
        },
        "id": "Sd88mj9DjVsu",
        "outputId": "399fa1b2-4fbf-4ea4-a71f-dc3925f9cf3f"
      },
      "outputs": [
        {
          "name": "stdout",
          "output_type": "stream",
          "text": [
            "[\n",
            "  \"5f0786c8a24608eaee5d5813a90690a28b29463a360a17159cc3e4c270eaf968\",\n",
            "  \"511e7ddb3b2c785cb56a28dc007016539e319a29e293becee8f7b70d10f68ffa\",\n",
            "  \"24ae33f079759df43dc0afe1ef6b6faf53ef890be0aa39ec368c8e627fc00918\",\n",
            "  \"04522150f3202e01463eb7ada7eff8161778659d054f0a2e5622ad4eff9e3b44\",\n",
            "  \"745953d0c0cb6f4be2d602315d92165f457ba549ca2a29fc23e249e52756a8c8\",\n",
            "  \"2e05334b079d7212f001f8341f91fdeb4326a43734c7211532aa0e3c883e968b\",\n",
            "  \"4169c9e91acde63a69fcf78a4873ef54f7ace547406603dc402204f23f19052a\",\n",
            "  \"4e605a7ab18e982a6aa74aece49b9048e79e98e9fa35adff868c113b79137c0c\",\n",
            "  \"4f7b2ff283ab2a9b4d35c6e2184bb9579670280feded406346088f3811033aee\",\n",
            "  \"0a649cb80574da02704212cfb9cf12a64f8f3028be9ef6197ef4ad2649a3e80f\",\n",
            "  \"12be7ff86edc6957d55a7aa8ba816b9d8003372e97a01a29cb75b15dd4de1bfb\",\n",
            "  \"6cd23d951d33cb48a3a04aff9294c59affdc9eb61fd01ffd64be67ac3b9ad702\",\n",
            "  \"151ccc248cdf607c22e5a247ae0fbcd096526ea7df1fbdbc1f52a7267bf1aae7\",\n",
            "  \"7171da1a2cdbc7f9d101ec913c9333f6faba04554470326f0b826469018008d1\",\n",
            "  \"215eb429e88a49f64a6aeec96d9ece3381a58a0989bbb6b36b8b0ad9c2d76fe7\",\n",
            "  \"2bdad52a22dc774695590cdbda8cfbcbd3d91749f204d5442a4610a768dd0782\",\n",
            "  \"6144d052702516c080cc1389cd5e8b3100bf1f8f4cdbb14d3b2932c3d623ef3f\",\n",
            "  \"29772eed244a0ec9c30a3f2be8c743e49b462c7fbfe3dc8325e1d06e092a7b9c\",\n",
            "  \"4c0ee1502087d6e0221b83e91a1f8e2b450edc4feb762cce8596f0aa2eebaceb\",\n",
            "  \"21ab9936be09eefeb38d5dfcb799474c055c97705750cec64b94a2cbd2cc039b\",\n",
            "  \"01ba62c6c9885d7b40c195180dbe909c05189ed5abb6cba820bfaa4289f9bdfb\",\n",
            "  \"1e60829be5eb6bf827a0eb9e9c152afc276b2c5730d72771cd9c5befe24323fa\",\n",
            "  \"00a73da0007239bb41679fcfb8d97c668056442d3f62f157dd8e1fc6d63fb59b\",\n",
            "  \"517d8c162c725cf2338cc9c7a8eed0cc842a3fa791e62181087aedc97c573258\",\n",
            "  \"7cfa53547574a7cae7ea02dbe188e95713e84f919d3284a63420d10b9308d3ae\",\n",
            "  \"750db75909ca8be14453f20e4b5d3780e77beb7ee8340c476a7b54cb7968883c\",\n",
            "  \"6ffe1ff88a2ba01776e2c349cfc67cc3e9ee12ffb6d8d38e9e62168343d69981\",\n",
            "  \"121a5fd9af9c9cdef81affd113c3daca76e807960a31d370c760a35ab49bda89\",\n",
            "  \"31e32ab1839852899429b7c196a9a9c21f8a89757867ecfd3ea256304dcf28e1\",\n",
            "  \"0ba2ea3eb0e4070ea706dfae775169896576da69488de8e474fb09e0788292c5\",\n",
            "  \"64cbc21bbb06c3e23bb71efd687d5ac5efa8d0f1f89ffec66280d2282deacfd8\",\n",
            "  \"7078a23413cad14db25531019cb3354700b1428baf8fef038b277e5850d77853\",\n",
            "  \"15a52839071e1be73da81b01ee35eb2cc5a9a307ebd117bf50b1442cf9f2cda5\",\n",
            "  \"2b4c676348b610d773ff16f6e07a02272d728513a4260dbc7be84e1d518d727b\",\n",
            "  \"446a5d58167b04b72ce2cc659050c85e4c240ba300ea47bff2fda4e4501d56be\",\n",
            "  \"28b5837e66e5575a4c11f7ea591b2cd4ab4505dd7ecdeec53c412a191a7c6614\",\n",
            "  \"746ce9a2d1707cc182e8b586bc1732a0990aa8ed43cc5535fb2e4fba320e4681\",\n",
            "  \"79c28cfa19a7dcfed85c97ce89b0122ba13c74a267b8e6a0fab0948761ff9fcd\",\n",
            "  \"16dfd6b53557982f425d3203b2329a79a1f6baff7ad9de46fd2cdb7861559f3f\",\n",
            "  \"553490a5e24bf91d35c5ce2527bee0aceb89b7a79036f67f875c52ba0859bea7\",\n",
            "  \"4f6ac1429078046fa97d0cd7049f00fa1e78b78d6d072c005fbcb328d3891f3a\",\n",
            "  \"1986ff564a4b76a80263de9a45c9e8e850ca54b1bcd38b73762641e61f21ca9a\",\n",
            "  \"2379e2ebf7c9ab08e3b53024e88d1b55c0f7fe685a51fe4d34b209d9ddc9e26a\",\n",
            "  \"512fec212ff1d0ef6c59bb625c0c5d5a2452cfbcf595c42755562444059bc0cf\",\n",
            "  \"00363e0962460d8a4e22692d073646f914c0b46a00b631507a37d42133c1ac97\",\n",
            "  \"108fc08c5f8b7bb5b719fa55b3396332f479e9b62fc27c29bc1f6404a69f04f5\",\n",
            "  \"5666ed6b34ad6bfe95662202491068ee3053555bdf54f2c7a53cda337abf2e39\",\n",
            "  \"5721a7442c2c0f976b154b0fa84bdf466d86ba22b872ac7de4b5fe9bcb20f8cc\",\n",
            "  \"7192bfc5130c395f310fba15b4cabdc36b5e6dc7b30510128fdedaf581ef76c2\",\n",
            "  \"1a5af547d70a326be7d3119c323fc1f862e33ea5c13523d65b19613c242b79ba\",\n",
            "  \"3227de45e86b157bd2ede1024aaa893879711d148d36e72f1318273d5fbebc7f\",\n",
            "  \"548a68aad5652331f1013b62f8c698cf473c61b32f3b722b4d0beb7cea6cce4b\",\n",
            "  \"4da031cf65223a97799ecca886598a7dca3b593e6d64bc6f92f7407498388053\",\n",
            "  \"3ffa9a9a4c165fe41c91477e70281ba43a278bf6ac8cba1f8e47401c2b6aa64d\",\n",
            "  \"6fa930c1a83cb7e57097035dd70d53fc5b5127ffc8e2776bc17886d88399738c\",\n",
            "  \"6feda9831ab94b277813f6e84ea894141faee5afb77e3fb29a3c6462464f5574\",\n",
            "  \"6eacf4c84dacd4d5af8f25836e4bbbed5efd9c1cb3c2bda6158669efa2b11c89\",\n",
            "  \"4861af3d58fec14be811c6f0cbc5b162d580ffacbafe23d9052acf86cf9c78cf\",\n",
            "  \"7d225def2a3ec19d0bb777c1ce378e15702d5ac59587b5df41c832aca5ae370b\",\n",
            "  \"3893b6e2b027a1eca73e1175febe8b05093a28937ca619e5156281748a7cfa8b\",\n",
            "  \"1de5d044102762660b8b0f0f91181f3663753a471b75058d0762f66d9e4bbaea\",\n",
            "  \"66ffed40480078ee80cdde29c56568202b8fc40bc76c966a23ba8b74d6896c84\",\n",
            "  \"7b022651031b5ea2470466d3fc818a4a2787b6cd8151cd98c47fd75dd4f11468\",\n",
            "  \"0e0bab62461b651af76c8c2b5c5e2eddffe5194615b55b9df11d5b8da8f7cfa4\",\n",
            "  \"60914ac872ef6ec3860b312727992ff0f3ac4f09d1caea102fcd479af23ca5d4\",\n",
            "  \"7c45b93d5fac03feb72bbeff453d7b2fae3c51fc830f2934f4264c71355a79a2\",\n",
            "  \"4169d14f38735070d6bae2424aa10a27382965111690c884dfdd5576a19d8cac\",\n",
            "  \"4e39baea9873bf6f678c9873585e2d17f6c48bb6d73c313add3d52905efd3108\",\n",
            "  \"4bda08e3ef1d741735d4d573e63a636276bff1801f5265787f9cc0bf9ce87be8\",\n",
            "  \"64ccd87d92c62b50c9ab1827e105acd97875e3dd307ea912b05a2776935745e2\",\n",
            "  \"30ede6a7ffbe6af227a1a86c64f85e57882534c15072e5999668935137946da1\",\n",
            "  \"1bf5ac2d05737e2d2ea6ee73675a5848225005059086a88ab3876654775ebb44\",\n",
            "  \"4aaa64c5102b1674ef894c4bfd84ae03e42418f38c4efe5d092e195a7ad916ec\",\n",
            "  \"33ea1903301722dd3c450930a199158c627c8b95bb01b8f03d2f73c06c8e78de\",\n",
            "  \"334e0d017696da077daafbc735fc6bee693a9b0b79569213fece081cbd384708\",\n",
            "  \"73f4c29950d872f6856ae9f9212b126c86ced89b20b49dbb5330315117825ce7\",\n",
            "  \"141daeccd2bd2b9338be03808462a04bd256d2a8b55b6f2562561723f14fb978\",\n",
            "  \"245d38ec7606edbf707fd31f1aa0527141861595ee1d5f8fa838fab44f302bf2\",\n",
            "  \"038f83630c4ecf8a58b0fc705f6230907da78261612c52c2e56897f8767f8484\",\n",
            "  \"775a569959ba4a88ecf54ec69408db936c86eb83f4b933ad65d31e883e1fd2e8\",\n",
            "  \"02dc69fec04c5d21ed2337ec1bc9512023d738a31d5b4da238e335ee170e7fcb\",\n",
            "  \"07781c677e3bb2591ea715bc1276d75e7ab49459387d0bc485d1137f86873393\",\n",
            "  \"62a3b8570d4f7975ac1bd549d83d2df5e47fa2eff804bc677356b6e76c3d19dc\",\n",
            "  \"5744eefaaaf65805e480df8db4bfae87e0e8ea5f570073a89383551ab2e33efe\",\n",
            "  \"416b9e75ef3bac36fdaa778219006461322ee2fff6333a66215e2bcc0ae426b1\",\n",
            "  \"6fa96a3646b0a4e96bb453b82aac6c1f593af979f2bc2e49757a08ea060a8049\",\n",
            "  \"76ba8df444cc5d0e8342a567dd53fbe7082ca2938f0e11ce7dc8318b1c1cb047\",\n",
            "  \"4ff89b834425111551bcd5f96a3397eb6f327e9a747a03a5d6dc8d215aba927e\",\n",
            "  \"7e7ab3418a31f7f11348e464ab7307597a17542eb25638625668d19d2477b182\",\n",
            "  \"016a91a0eb2e1ca465ec0e04264830178f971e643a123888ecd1de5af183c3ad\",\n",
            "  \"2636dc5449aede5d46792719add30d3013a43518ec2d51bbad40e95bd423771a\",\n",
            "  \"0dd752a5e6ed32bb755ec9b331d2e718fbfbaa59251a075a29c315323350ddc2\",\n",
            "  \"3d3e7e0877c0fec215bce70a6fd92dede93fabab6bfef3263a0d674b27eda310\",\n",
            "  \"3fc3fe64583cdafa128b366ef1b472f5c2fad6326f254d0ec99e09b456bef5f3\",\n",
            "  \"712dc4d37d06073a1e8d1e85841724ecb6797cadcf815ba689cc3ac5f00a5346\",\n",
            "  \"2cc2e59a6f9bc98d97b4bc2d2fefcc30ef1c633f3d9b320a5dcb4eb7a940d074\",\n",
            "  \"5618eb4b31babb86299bb423ed086d168d90bc8cbffeaf637a92c8b09808a430\",\n",
            "  \"40f4f79ab85fecc60102aa58e4692f55d4079e9d1a348010e6ba3c6f4e50554c\",\n",
            "  \"6161208e44e9498a7af689b4d5e249f2265d45db01863983c284078a6ee38f7a\",\n",
            "  \"0c8b573102543493d112a8d19921e59cf497e14e9271b812e189e3f916deb9e9\",\n",
            "  \"6caf96c879e59b27fda85c66679943d362768c4dc308761355e59c1096a37839\",\n",
            "  \"7f9c041f60ff8697b643bb1b2fbaae753629b7e97906aef51a6073a9c3997d66\",\n",
            "  \"283ff763f52052f04f775bc0becd6d325906c13d6f98fc1e2e6e8a9695932972\",\n",
            "  \"31d25e59c959fdbb6441273a9c86b19479f8a390ddb1ed0a1fbc31b86b4c605a\",\n",
            "  \"6200f9afcbfdec04232e70227c7f5f02fb610e4462f20d0f3450b748adc10e77\",\n",
            "  \"42ea43fa41ee81842d397372f0dcc69ab1a1f00cd287286292a82c59ac52b7dd\",\n",
            "  \"57373f3fb28db381fffbfcb6e422d6ee767a29b0b5d6becc3ba659b37b12bf81\",\n",
            "  \"311083796ec415460b01aea5cd00b51556caa32e1e48803f9c0cab88199e6373\",\n",
            "  \"0a5314fbd73e05c6e3e84c37f68452c23e828ecd02fbeeb1f5b8880540a471e8\",\n",
            "  \"591346656d485cd7f58b5b7a3c95d29f293defe68c0f459e2569fbe0474fd7a8\",\n",
            "  \"5c675d9ee3df5a101fdc417e61356d10fa37763fcead62e2f023882e218ac921\"\n",
            "]\n"
          ]
        }
      ],
      "source": [
        "!bitcoin-cli -regtest generatetoaddress 111 bcrt1qtcpqe3znc4px3ne0esqrc33t273wzggsx8npgw"
      ]
    },
    {
      "attachments": {},
      "cell_type": "markdown",
      "metadata": {},
      "source": [
        "Step 6: Check the current Bitcoin balance of the \"test_wallet\" and \"receiver_wallet\" wallet using the getbalance command via the Bitcoin Core JSON-RPC API."
      ]
    },
    {
      "cell_type": "code",
      "execution_count": null,
      "metadata": {
        "colab": {
          "base_uri": "https://localhost:8080/"
        },
        "id": "NiHdITdUjd5D",
        "outputId": "42f63d7d-f6e8-444e-d855-5a0086666cc7"
      },
      "outputs": [
        {
          "name": "stdout",
          "output_type": "stream",
          "text": [
            "550.00000000\n",
            "0.00000000\n"
          ]
        }
      ],
      "source": [
        "!bitcoin-cli --regtest --rpcwallet=test_wallet getbalance\n",
        "!bitcoin-cli --regtest --rpcwallet=receiver_wallet getbalance"
      ]
    },
    {
      "attachments": {},
      "cell_type": "markdown",
      "metadata": {},
      "source": [
        "Step 7: Transfer 1 bitcoin from the test_wallet to the receiver_wallet using in regtest mode. The transaction is broadcasted to the network for confirmation and the command will returns the state of the transaction. Finally check the balance of the wallets again."
      ]
    },
    {
      "cell_type": "code",
      "execution_count": null,
      "metadata": {
        "colab": {
          "base_uri": "https://localhost:8080/"
        },
        "id": "7ZwMp2S_jfaV",
        "outputId": "041ade87-e23e-4348-a7b2-6f8dbc8ec535"
      },
      "outputs": [
        {
          "name": "stdout",
          "output_type": "stream",
          "text": [
            "error code: -6\n",
            "error message:\n",
            "Fee estimation failed. Fallbackfee is disabled. Wait a few blocks or enable -fallbackfee.\n"
          ]
        }
      ],
      "source": [
        "!bitcoin-cli --regtest --rpcwallet=test_wallet sendtoaddress bcrt1qasyqs7a5gh8ptd3y4rguuuk9vnw4dmsjc6wulw 1"
      ]
    },
    {
      "cell_type": "code",
      "execution_count": null,
      "metadata": {
        "colab": {
          "base_uri": "https://localhost:8080/"
        },
        "id": "32ZQnysCkJfV",
        "outputId": "5e962220-b4f4-4d12-9a9f-5b274591d5e1"
      },
      "outputs": [
        {
          "name": "stdout",
          "output_type": "stream",
          "text": [
            "550.00000000\n",
            "0.00000000\n"
          ]
        }
      ],
      "source": [
        "!bitcoin-cli --regtest --rpcwallet=test_wallet getbalance\n",
        "!bitcoin-cli --regtest --rpcwallet=receiver_wallet getbalance"
      ]
    }
  ],
  "metadata": {
    "colab": {
      "provenance": []
    },
    "kernelspec": {
      "display_name": "Python 3",
      "name": "python3"
    },
    "language_info": {
      "name": "python"
    }
  },
  "nbformat": 4,
  "nbformat_minor": 0
}
